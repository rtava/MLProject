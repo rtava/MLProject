{
 "cells": [
  {
   "cell_type": "raw",
   "metadata": {},
   "source": [
    "---\n",
    "title: \"Using logistic regression to predict loans defualt rate\"\n",
    "format: \n",
    "  html:\n",
    "    code-fold: false\n",
    "jupyter: python3\n",
    "image: \"LR.png\"\n",
    "author: \"Reza Tavakoli\"\n",
    "date: \"2023-10-22\"\n",
    "categories: [ML, regression, classification]\n",
    "---"
   ]
  },
  {
   "cell_type": "markdown",
   "metadata": {},
   "source": [
    "In this post, I will use the logit regression method to predict default rate.   "
   ]
  },
  {
   "cell_type": "markdown",
   "metadata": {},
   "source": [
    "# We should have a varibale that show having complete loan or not"
   ]
  },
  {
   "cell_type": "code",
   "execution_count": 64,
   "metadata": {},
   "outputs": [],
   "source": [
    "import seaborn as sns\n",
    "import pandas as pd\n",
    "import numpy as np\n",
    "import matplotlib\n",
    "\n",
    "sns.set_theme(style=\"whitegrid\")"
   ]
  },
  {
   "cell_type": "markdown",
   "metadata": {},
   "source": [
    "## Data\n",
    "To answer the question, I will analyze loan data for 5000 banking system customers in a Middle Eastern country. "
   ]
  },
  {
   "cell_type": "code",
   "execution_count": 65,
   "metadata": {},
   "outputs": [],
   "source": [
    "df = pd.read_csv(\"C:\\\\Users\\\\rtava\\\\OneDrive\\\\Documents\\\\Git\\\\MLProject\\\\loans_clean.csv\")"
   ]
  },
  {
   "cell_type": "markdown",
   "metadata": {},
   "source": [
    "### Varibales\n",
    "\n",
    "The following table provide a description for variables in the data set. "
   ]
  },
  {
   "cell_type": "markdown",
   "metadata": {},
   "source": [
    "|Variable name |Description| \n",
    "|:-----|:-----|\n",
    "|date_granted |the date which the loan granted|\n",
    "|label|is =1 if the costumer paid at least one installment with more than 90 days delay|\n",
    "|installment| number of the requested loan installment|"
   ]
  },
  {
   "cell_type": "markdown",
   "metadata": {},
   "source": [
    "## Descriptive Statistics"
   ]
  },
  {
   "cell_type": "code",
   "execution_count": 66,
   "metadata": {},
   "outputs": [],
   "source": [
    "#df=df.loc[data[\"date_granted\"]<20218000]"
   ]
  },
  {
   "cell_type": "code",
   "execution_count": 67,
   "metadata": {},
   "outputs": [
    {
     "name": "stdout",
     "output_type": "stream",
     "text": [
      "This dataset has 5578 records with 33 atributes\n",
      "About 0.38 of lables was defaulted with label 1\n"
     ]
    }
   ],
   "source": [
    "print(\"This dataset has\", df.shape[0], \"records with\", df.shape[1], \"atributes\")\n",
    "print(\"About\", df.label.mean().round(2) , \"of lables was defaulted with label 1\") "
   ]
  },
  {
   "cell_type": "markdown",
   "metadata": {},
   "source": [
    "#sns.scatterplot(data, x=\"installment\", y=\"amount_approved\")\n",
    "\n",
    "df.loc[df['installment']>61, 'installment_group']=\"less than 60\"\n",
    "df.installment_group.fillna(\"more\", inplace=True)\n",
    "\n",
    "sns.set_theme(style=\"whitegrid\")\n",
    "sns.scatterplot(x=\"installment\", y=\"amount_approved\",\n",
    "                s=5, palette=\"ch:r=-.2,d=.3_r\",\n",
    "                sizes=(1, 8), linewidth=0, hue=\"installment_group\",\n",
    "                data=df)\n"
   ]
  },
  {
   "cell_type": "code",
   "execution_count": 68,
   "metadata": {},
   "outputs": [
    {
     "data": {
      "text/plain": [
       "Index(['national_code', 'date_granted', 'label', 'installment', 'num_loans',\n",
       "       'age', 'gender', 'marital', 'num_negstatus_2years',\n",
       "       'num_negstatus_before_2years', 'total_early_payment',\n",
       "       'total_delayed_payment', 'max_installment_amount', 'oldest_loan_age',\n",
       "       'complete_last_payment_age', 'num_prev_0_1_year_loans',\n",
       "       'num_prev_1_3_year_loans', 'guarantor_role',\n",
       "       'negstatus_guarantor_last_12month',\n",
       "       'negstatus_guarantor_before_12month', 'completed_loan_ratio',\n",
       "       'outstanding_debt_ratio', 'past_due_6_month', 'past_due_6_18_month',\n",
       "       'past_due_18_more_month', 'undue_12_month', 'undue_12_more_month',\n",
       "       'default_12_month', 'default_12_more_month',\n",
       "       'worst_negative_status_last_2years', 'current_installments',\n",
       "       'age_last_negative_status', 'amount_approved'],\n",
       "      dtype='object')"
      ]
     },
     "execution_count": 68,
     "metadata": {},
     "output_type": "execute_result"
    }
   ],
   "source": [
    "df.columns"
   ]
  },
  {
   "cell_type": "code",
   "execution_count": 70,
   "metadata": {},
   "outputs": [],
   "source": [
    "group_demography = ['age', 'gender', 'marital']\n",
    "group_requested_load = ['date_granted', 'label', 'installment','amount_approved']\n",
    "group_repayment_history = ['total_delayed_payment', 'total_early_payment','num_negstatus_2years',\n",
    "       'num_negstatus_before_2years', 'negstatus_guarantor_last_12month',\n",
    "       'negstatus_guarantor_before_12month','past_due_6_month', 'past_due_6_18_month',\n",
    "       'past_due_18_more_month', 'undue_12_month', 'undue_12_more_month',\n",
    "       'default_12_month', 'default_12_more_month',\n",
    "       'worst_negative_status_last_2years','age_last_negative_status']\n",
    "group_financial_history = ['num_loans', 'max_installment_amount', 'oldest_loan_age',\n",
    "       'complete_last_payment_age', 'num_prev_0_1_year_loans',\n",
    "       'num_prev_1_3_year_loans', 'guarantor_role',\n",
    "       'completed_loan_ratio', 'outstanding_debt_ratio', 'current_installments']"
   ]
  },
  {
   "cell_type": "code",
   "execution_count": 71,
   "metadata": {},
   "outputs": [],
   "source": [
    "all_columns = group_demography + group_requested_load + group_repayment_history + group_financial_history\n",
    "df_new = df[all_columns];\n",
    "\n",
    "for c in df_new.columns:\n",
    "    q1 = df_new[c].quantile(0.05)\n",
    "    q3 = df_new[c].quantile(0.95)\n",
    "    iqr = q3-q1\n",
    "    lower_fence = q1 - 1.5*iqr\n",
    "    upper_fence = q3 + 1.5*iqr\n",
    "\n",
    "    for i in range(len(df)):\n",
    "        if df_new.loc[i, c] < lower_fence or df_new.loc[i, c] > upper_fence:  # if outlier\n",
    "            df_new.loc[i, \"out_\" + c] = 1\n",
    "        else:\n",
    "            df_new.loc[i, \"out_\" + c] = 0\n",
    "\n",
    "out_col = [col for col in df_new.columns if 'out_' in col]\n",
    "df_new['out'] = df_new[out_col].sum(axis=1)\n",
    "\n",
    "df_new = df_new.loc[df_new.out==0]\n",
    "df_new.drop([col for col in df_new.columns if 'out_' in col], axis=1, inplace=True)"
   ]
  },
  {
   "cell_type": "code",
   "execution_count": null,
   "metadata": {},
   "outputs": [
    {
     "data": {
      "text/plain": [
       "worst_negative_status_last_2years\n",
       "0.0    3144\n",
       "1.0    1283\n",
       "2.0     327\n",
       "3.0      36\n",
       "Name: count, dtype: int64"
      ]
     },
     "execution_count": 55,
     "metadata": {},
     "output_type": "execute_result"
    }
   ],
   "source": [
    "df_prep = pd.get_dummies(df_new, columns=['worst_negative_status_last_2years'])\n",
    "\n",
    "for column in ['worst_negative_status_last_2years_0.0', \n",
    "          'worst_negative_status_last_2years_1.0', \n",
    "          'worst_negative_status_last_2years_2.0',\n",
    "          'worst_negative_status_last_2years_3.0']:\n",
    "        df_prep[column] = df_prep[column].replace({True: 1, False: 0})"
   ]
  },
  {
   "cell_type": "code",
   "execution_count": 81,
   "metadata": {},
   "outputs": [],
   "source": [
    "x_col = ['age', 'gender', 'marital', 'date_granted', 'installment','amount_approved',\n",
    "        'total_delayed_payment', 'total_early_payment','num_negstatus_2years',\n",
    "       'num_negstatus_before_2years', 'negstatus_guarantor_last_12month',\n",
    "       'negstatus_guarantor_before_12month','past_due_6_month', 'past_due_6_18_month',\n",
    "       'past_due_18_more_month', 'undue_12_month', 'undue_12_more_month',\n",
    "       'default_12_month', 'default_12_more_month','age_last_negative_status',\n",
    "       'num_loans', 'max_installment_amount', 'oldest_loan_age',\n",
    "       'complete_last_payment_age', 'num_prev_0_1_year_loans',\n",
    "       'num_prev_1_3_year_loans', 'guarantor_role',\n",
    "       'completed_loan_ratio', 'outstanding_debt_ratio', 'current_installments',\n",
    "       'worst_negative_status_last_2years_0.0', 'worst_negative_status_last_2years_1.0', \n",
    "          'worst_negative_status_last_2years_2.0', 'worst_negative_status_last_2years_3.0']"
   ]
  },
  {
   "cell_type": "code",
   "execution_count": 82,
   "metadata": {},
   "outputs": [
    {
     "name": "stdout",
     "output_type": "stream",
     "text": [
      "Train Sample Size: 3832 \n",
      "Test Sample Size: 958\n"
     ]
    }
   ],
   "source": [
    "from sklearn.model_selection import train_test_split\n",
    "df_train, df_test = train_test_split(df_prep, test_size=0.2, random_state = 1234)\n",
    "\n",
    "X_train, y_train = df_train[x_col], df_train['label']\n",
    "X_test, y_test = df_test[x_col], df_test['label']\n",
    "\n",
    "print(\"Train Sample Size:\", X_train.shape[0],\n",
    "      \"\\nTest Sample Size:\", X_test.shape[0])"
   ]
  },
  {
   "cell_type": "code",
   "execution_count": 84,
   "metadata": {},
   "outputs": [],
   "source": [
    "'''\n",
    "from sklearn import metrics\n",
    "from sklearn.ensemble import RandomForestClassifier\n",
    "\n",
    "threshold = 0.4\n",
    "\n",
    "RF_model = RandomForestClassifier(random_state=1234, max_depth = 20, n_estimators=100, class_weight='balanced')\n",
    "RF_model.fit(X_train,y_train)\n",
    "y_prob_RF = RF_model.predict_proba(X_test)\n",
    "y_pred_RF = (y_prob_RF[:,1] >= threshold).astype('int')\n",
    "Accuracy_RF = metrics.accuracy_score(y_test, y_pred_RF)\n",
    "F1_RF = metrics.f1_score(y_test, y_pred_RF)\n",
    "AUC = metrics.roc_auc_score(y_test, y_pred_RF)\n",
    "clas_report = metrics.classification_report(y_test, y_pred_RF)"
   ]
  },
  {
   "cell_type": "code",
   "execution_count": 96,
   "metadata": {},
   "outputs": [
    {
     "name": "stdout",
     "output_type": "stream",
     "text": [
      "0.6409185803757829\n"
     ]
    }
   ],
   "source": [
    "from sklearn.linear_model import LogisticRegression\n",
    "logisticRegr = LogisticRegression()\n",
    "LR = logisticRegr.fit(X_train, y_train)\n",
    "predictions = logisticRegr.predict(X_test)\n",
    "\n",
    "score = logisticRegr.score(X_test, y_test)\n",
    "print(score)"
   ]
  },
  {
   "cell_type": "code",
   "execution_count": 98,
   "metadata": {},
   "outputs": [
    {
     "ename": "ValueError",
     "evalue": "ConfusionMatrixDisplay.from_estimator only supports classifiers",
     "output_type": "error",
     "traceback": [
      "\u001b[1;31m---------------------------------------------------------------------------\u001b[0m",
      "\u001b[1;31mValueError\u001b[0m                                Traceback (most recent call last)",
      "\u001b[1;32mc:\\Users\\rtava\\OneDrive\\Documents\\Git\\MLProject\\posts\\Log_Reg\\LR.ipynb Cell 21\u001b[0m line \u001b[0;36m4\n\u001b[0;32m      <a href='vscode-notebook-cell:/c%3A/Users/rtava/OneDrive/Documents/Git/MLProject/posts/Log_Reg/LR.ipynb#X42sZmlsZQ%3D%3D?line=0'>1</a>\u001b[0m \u001b[39mfrom\u001b[39;00m \u001b[39msklearn\u001b[39;00m\u001b[39m.\u001b[39;00m\u001b[39mmetrics\u001b[39;00m \u001b[39mimport\u001b[39;00m confusion_matrix, ConfusionMatrixDisplay\n\u001b[0;32m      <a href='vscode-notebook-cell:/c%3A/Users/rtava/OneDrive/Documents/Git/MLProject/posts/Log_Reg/LR.ipynb#X42sZmlsZQ%3D%3D?line=2'>3</a>\u001b[0m \u001b[39m#print(\"RF Accuracy:\",Accuracy_RF, \"\\nF1 Score:\", F1_RF, \"\\nAUC_ROC:\", AUC)\u001b[39;00m\n\u001b[1;32m----> <a href='vscode-notebook-cell:/c%3A/Users/rtava/OneDrive/Documents/Git/MLProject/posts/Log_Reg/LR.ipynb#X42sZmlsZQ%3D%3D?line=3'>4</a>\u001b[0m ConfusionMatrixDisplay\u001b[39m.\u001b[39;49mfrom_estimator(predictions, X_test, y_test)\n",
      "File \u001b[1;32mc:\\Users\\rtava\\AppData\\Local\\Programs\\Python\\Python312\\Lib\\site-packages\\sklearn\\metrics\\_plot\\confusion_matrix.py:319\u001b[0m, in \u001b[0;36mConfusionMatrixDisplay.from_estimator\u001b[1;34m(cls, estimator, X, y, labels, sample_weight, normalize, display_labels, include_values, xticks_rotation, values_format, cmap, ax, colorbar, im_kw, text_kw)\u001b[0m\n\u001b[0;32m    317\u001b[0m check_matplotlib_support(method_name)\n\u001b[0;32m    318\u001b[0m \u001b[39mif\u001b[39;00m \u001b[39mnot\u001b[39;00m is_classifier(estimator):\n\u001b[1;32m--> 319\u001b[0m     \u001b[39mraise\u001b[39;00m \u001b[39mValueError\u001b[39;00m(\u001b[39mf\u001b[39m\u001b[39m\"\u001b[39m\u001b[39m{\u001b[39;00mmethod_name\u001b[39m}\u001b[39;00m\u001b[39m only supports classifiers\u001b[39m\u001b[39m\"\u001b[39m)\n\u001b[0;32m    320\u001b[0m y_pred \u001b[39m=\u001b[39m estimator\u001b[39m.\u001b[39mpredict(X)\n\u001b[0;32m    322\u001b[0m \u001b[39mreturn\u001b[39;00m \u001b[39mcls\u001b[39m\u001b[39m.\u001b[39mfrom_predictions(\n\u001b[0;32m    323\u001b[0m     y,\n\u001b[0;32m    324\u001b[0m     y_pred,\n\u001b[1;32m   (...)\u001b[0m\n\u001b[0;32m    336\u001b[0m     text_kw\u001b[39m=\u001b[39mtext_kw,\n\u001b[0;32m    337\u001b[0m )\n",
      "\u001b[1;31mValueError\u001b[0m: ConfusionMatrixDisplay.from_estimator only supports classifiers"
     ]
    }
   ],
   "source": [
    "from sklearn.metrics import confusion_matrix, ConfusionMatrixDisplay\n",
    "\n",
    "#print(\"RF Accuracy:\",Accuracy_RF, \"\\nF1 Score:\", F1_RF, \"\\nAUC_ROC:\", AUC)\n",
    "ConfusionMatrixDisplay.from_estimator(predictions, X_test, y_test)"
   ]
  }
 ],
 "metadata": {
  "kernelspec": {
   "display_name": "Python 3",
   "language": "python",
   "name": "python3"
  },
  "language_info": {
   "codemirror_mode": {
    "name": "ipython",
    "version": 3
   },
   "file_extension": ".py",
   "mimetype": "text/x-python",
   "name": "python",
   "nbconvert_exporter": "python",
   "pygments_lexer": "ipython3",
   "version": "3.12.0"
  }
 },
 "nbformat": 4,
 "nbformat_minor": 2
}
