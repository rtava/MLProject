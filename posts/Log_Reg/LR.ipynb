{
 "cells": [
  {
   "cell_type": "raw",
   "metadata": {},
   "source": [
    "---\n",
    "title: \"Using logistic regression to predict loans defualt rate\"\n",
    "format: \n",
    "  html:\n",
    "    code-fold: false\n",
    "jupyter: python3\n",
    "image: \"LR.png\"\n",
    "author: \"Reza Tavakoli\"\n",
    "date: \"2023-10-22\"\n",
    "categories: [ML, regression, classification]\n",
    "---"
   ]
  },
  {
   "cell_type": "markdown",
   "metadata": {},
   "source": [
    "In this post, I will use the logit regression method to predict default rate.   "
   ]
  },
  {
   "cell_type": "markdown",
   "metadata": {},
   "source": [
    "# We should have a varibale that show having complete loan or not"
   ]
  },
  {
   "cell_type": "code",
   "execution_count": 34,
   "metadata": {},
   "outputs": [],
   "source": [
    "import seaborn as sns\n",
    "import pandas as pd\n",
    "import numpy as np\n",
    "import matplotlib"
   ]
  },
  {
   "cell_type": "markdown",
   "metadata": {},
   "source": [
    "## Data\n",
    "To answer the question, I will analyze loan data for 5000 banking system customers in a Middle Eastern country. "
   ]
  },
  {
   "cell_type": "code",
   "execution_count": 35,
   "metadata": {},
   "outputs": [],
   "source": [
    "data = pd.read_csv(\"C:\\\\Users\\\\rtava\\\\OneDrive\\\\Documents\\\\Git\\\\MLProject\\\\loans_clean.csv\")"
   ]
  },
  {
   "cell_type": "markdown",
   "metadata": {},
   "source": [
    "### Varibales\n",
    "\n",
    "The following table provide a description for variables in the data set. "
   ]
  },
  {
   "cell_type": "markdown",
   "metadata": {},
   "source": [
    "|Variable name |Description| \n",
    "|:-----|:-----|\n",
    "|date_granted |the date which the loan granted|\n",
    "|label|is =1 if the costumer paid at least one installment with more than 90 days delay|\n",
    "|installment| number of the requested loan installment|"
   ]
  },
  {
   "cell_type": "markdown",
   "metadata": {},
   "source": [
    "## Descriptive Statistics"
   ]
  },
  {
   "cell_type": "code",
   "execution_count": 46,
   "metadata": {},
   "outputs": [
    {
     "name": "stdout",
     "output_type": "stream",
     "text": [
      "Object `describe` not found.\n"
     ]
    }
   ],
   "source": []
  },
  {
   "cell_type": "code",
   "execution_count": 37,
   "metadata": {},
   "outputs": [
    {
     "data": {
      "text/plain": [
       "<seaborn.axisgrid.FacetGrid at 0x22a104da690>"
      ]
     },
     "execution_count": 37,
     "metadata": {},
     "output_type": "execute_result"
    },
    {
     "data": {
      "image/png": "[encoded data removed]",
      "text/plain": [
       "<Figure size 500x500 with 1 Axes>"
      ]
     },
     "metadata": {},
     "output_type": "display_data"
    }
   ],
   "source": [
    "sns.displot(data, x=\"date_granted\")"
   ]
  },
  {
   "cell_type": "code",
   "execution_count": 36,
   "metadata": {},
   "outputs": [
    {
     "data": {
      "text/plain": [
       "Index(['national_code', 'date_granted', 'label', 'installment', 'num_loans',\n",
       "       'age', 'gender', 'marital', 'num_negstatus_2years',\n",
       "       'num_negstatus_before_2years', 'total_early_payment',\n",
       "       'total_delayed_payment', 'max_installment_amount', 'oldest_loan_age',\n",
       "       'complete_last_payment_age', 'num_prev_0_1_year_loans',\n",
       "       'num_prev_1_3_year_loans', 'guarantor_role',\n",
       "       'negstatus_guarantor_last_12month',\n",
       "       'negstatus_guarantor_before_12month', 'completed_loan_ratio',\n",
       "       'outstanding_debt_ratio', 'past_due_6_month', 'past_due_6_18_month',\n",
       "       'past_due_18_more_month', 'undue_12_month', 'undue_12_more_month',\n",
       "       'default_12_month', 'default_12_more_month',\n",
       "       'worst_negative_status_last_2years', 'current_installments',\n",
       "       'age_last_negative_status', 'amount_approved'],\n",
       "      dtype='object')"
      ]
     },
     "execution_count": 36,
     "metadata": {},
     "output_type": "execute_result"
    }
   ],
   "source": [
    "data.columns"
   ]
  }
 ],
 "metadata": {
  "kernelspec": {
   "display_name": "Python 3",
   "language": "python",
   "name": "python3"
  },
  "language_info": {
   "codemirror_mode": {
    "name": "ipython",
    "version": 3
   },
   "file_extension": ".py",
   "mimetype": "text/x-python",
   "name": "python",
   "nbconvert_exporter": "python",
   "pygments_lexer": "ipython3",
   "version": "3.12.0"
  }
 },
 "nbformat": 4,
 "nbformat_minor": 2
}
