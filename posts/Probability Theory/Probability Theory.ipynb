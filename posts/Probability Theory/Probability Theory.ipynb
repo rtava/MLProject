{
 "cells": [
  {
   "cell_type": "raw",
   "metadata": {},
   "source": [
    "---\n",
    "title: \"Customer Loyalty, Using Logistic Regression\"\n",
    "format: \n",
    "  html:\n",
    "    code-fold: false\n",
    "jupyter: python3\n",
    "image: \"PB.jpeg\"\n",
    "author: \"Reza Tavakoli\"\n",
    "date: \"2023-11-20\"\n",
    "categories: [ML, Probability]\n",
    "---"
   ]
  },
  {
   "cell_type": "raw",
   "metadata": {},
   "source": [
    "In this blog post, I will show how chance regularities plays roll in Probability theory. "
   ]
  },
  {
   "cell_type": "raw",
   "metadata": {},
   "source": [
    "I will show "
   ]
  },
  {
   "cell_type": "raw",
   "metadata": {},
   "source": [
    "import random\n"
   ]
  }
 ],
 "metadata": {
  "kernelspec": {
   "display_name": "Python 3",
   "language": "python",
   "name": "python3"
  },
  "language_info": {
   "codemirror_mode": {
    "name": "ipython",
    "version": 3
   },
   "file_extension": ".py",
   "mimetype": "text/x-python",
   "name": "python",
   "nbconvert_exporter": "python",
   "pygments_lexer": "ipython3",
   "version": "3.12.0"
  }
 },
 "nbformat": 4,
 "nbformat_minor": 2
}
